{
 "cells": [
  {
   "cell_type": "code",
   "id": "initial_id",
   "metadata": {
    "collapsed": true,
    "ExecuteTime": {
     "end_time": "2024-07-19T06:29:40.121373Z",
     "start_time": "2024-07-19T06:29:26.684704Z"
    }
   },
   "source": [
    "import os\n",
    "\n",
    "import pandas as pd\n",
    "\n",
    "os.chdir('/Users/wwfyde/Projects/MoLook/crawler')\n",
    "from crawler.config import settings\n",
    "%pwd\n",
    "gap_file = settings.project_dir.joinpath(\"data\", \"GAP款号.xlsx\")\n",
    "next_file = settings.project_dir.joinpath(\"data\", \"next款号.xlsx\")\n",
    "\n",
    "spring_24 = pd.read_excel(gap_file, sheet_name=\"SP24\")\n",
    "spring_24.梭织.T.T\n"
   ],
   "outputs": [
    {
     "data": {
      "text/plain": [
       "0         款号\n",
       "1     793269\n",
       "2     623795\n",
       "3     623795\n",
       "4     830494\n",
       "5     881150\n",
       "6     885499\n",
       "7     881157\n",
       "8     885498\n",
       "9     885498\n",
       "10    401672\n",
       "11    735795\n",
       "12    885502\n",
       "13    606506\n",
       "14    736484\n",
       "15    608891\n",
       "16    608930\n",
       "17    606484\n",
       "18    878160\n",
       "19    885500\n",
       "20    602577\n",
       "21    767285\n",
       "22    767303\n",
       "23    810231\n",
       "24    370404\n",
       "25    370407\n",
       "26    372200\n",
       "27    540888\n",
       "28    618357\n",
       "29    790798\n",
       "30    796309\n",
       "31    891754\n",
       "32       NaN\n",
       "33       NaN\n",
       "34       NaN\n",
       "35       NaN\n",
       "36       NaN\n",
       "37       NaN\n",
       "38       NaN\n",
       "39       NaN\n",
       "40       NaN\n",
       "Name: 梭织, dtype: object"
      ]
     },
     "execution_count": 8,
     "metadata": {},
     "output_type": "execute_result"
    }
   ],
   "execution_count": 8
  },
  {
   "metadata": {
    "ExecuteTime": {
     "end_time": "2024-07-19T06:15:29.119352Z",
     "start_time": "2024-07-19T06:15:29.106408Z"
    }
   },
   "cell_type": "code",
   "source": "%pwd\n",
   "id": "25fea6625636bcd5",
   "outputs": [
    {
     "data": {
      "text/plain": [
       "'/Users/wwfyde/Projects/MoLook/crawler/projects/gap'"
      ]
     },
     "execution_count": 3,
     "metadata": {},
     "output_type": "execute_result"
    }
   ],
   "execution_count": 3
  }
 ],
 "metadata": {
  "kernelspec": {
   "display_name": "Python 3",
   "language": "python",
   "name": "python3"
  },
  "language_info": {
   "codemirror_mode": {
    "name": "ipython",
    "version": 2
   },
   "file_extension": ".py",
   "mimetype": "text/x-python",
   "name": "python",
   "nbconvert_exporter": "python",
   "pygments_lexer": "ipython2",
   "version": "2.7.6"
  }
 },
 "nbformat": 4,
 "nbformat_minor": 5
}
